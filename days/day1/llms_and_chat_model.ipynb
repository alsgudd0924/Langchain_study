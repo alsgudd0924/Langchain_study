{
 "cells": [
  {
   "cell_type": "markdown",
   "id": "38da1363",
   "metadata": {},
   "source": [
    "# Chat Model"
   ]
  },
  {
   "cell_type": "code",
   "execution_count": 2,
   "id": "43f8cd0f",
   "metadata": {},
   "outputs": [],
   "source": [
    "from dotenv import load_dotenv\n",
    "import os\n",
    "\n",
    "load_dotenv()\n",
    "\n",
    "OPENAI_API_KEY = os.getenv(\"OPENAI_API_KEY\")"
   ]
  },
  {
   "cell_type": "code",
   "execution_count": 3,
   "id": "9d58b9bc",
   "metadata": {},
   "outputs": [
    {
     "name": "stdout",
     "output_type": "stream",
     "text": [
      "content='There are eight recognized planets in our Solar System. These are, in order from the Sun: Mercury, Venus, Earth, Mars, Jupiter, Saturn, Uranus, and Neptune.' additional_kwargs={'refusal': None} response_metadata={'token_usage': {'completion_tokens': 37, 'prompt_tokens': 13, 'total_tokens': 50, 'completion_tokens_details': {'accepted_prediction_tokens': 0, 'audio_tokens': 0, 'reasoning_tokens': 0, 'rejected_prediction_tokens': 0}, 'prompt_tokens_details': {'audio_tokens': 0, 'cached_tokens': 0}}, 'model_name': 'gpt-4.1-nano-2025-04-14', 'system_fingerprint': 'fp_7c233bf9d1', 'id': 'chatcmpl-CKNOdBouE9AvpwFKZZnLuxfODklln', 'service_tier': 'default', 'finish_reason': 'stop', 'logprobs': None} id='run--78597ee8-8b11-44f7-97ab-335e991af212-0' usage_metadata={'input_tokens': 13, 'output_tokens': 37, 'total_tokens': 50, 'input_token_details': {'audio': 0, 'cache_read': 0}, 'output_token_details': {'audio': 0, 'reasoning': 0}}\n"
     ]
    }
   ],
   "source": [
    "from langchain_openai import ChatOpenAI, OpenAI\n",
    "\n",
    "chat = ChatOpenAI(\n",
    "    model= \"gpt-4.1-nano\"\n",
    ")\n",
    "llm = OpenAI()\n",
    "\n",
    "print(chat.invoke(\"How many planets are there?\"))\n"
   ]
  },
  {
   "cell_type": "markdown",
   "id": "d4a10c81",
   "metadata": {},
   "source": [
    "# Message Schema"
   ]
  },
  {
   "cell_type": "code",
   "execution_count": 4,
   "id": "ad65fac6",
   "metadata": {},
   "outputs": [],
   "source": [
    "from langchain_openai import ChatOpenAI\n",
    "\n",
    "chat = ChatOpenAI(\n",
    "    model=\"gpt-5-nano\",\n",
    "    temperature=0.1\n",
    ")"
   ]
  },
  {
   "cell_type": "code",
   "execution_count": 5,
   "id": "a011f463",
   "metadata": {},
   "outputs": [
    {
     "name": "stderr",
     "output_type": "stream",
     "text": [
      "/var/folders/k6/lblj25mj78v8kkrtsml76t9w0000gn/T/ipykernel_44814/1374343564.py:15: LangChainDeprecationWarning: The method `BaseChatModel.predict_messages` was deprecated in langchain-core 0.1.7 and will be removed in 1.0. Use :meth:`~invoke` instead.\n",
      "  chat.predict_messages(messages=messages)\n"
     ]
    },
    {
     "data": {
      "text/plain": [
       "AIMessage(content='다음 두 나라의 거리를 계산해 드릴 수 있는데, 먼저 몇 가지를 확인하고 싶어요.\\n\\n- 두 나라 이름을 실제로 알려주실 수 있나요? 예: 미국과 캐나다\\n- 어떤 기준으로 거리를 원하시나요? 보통은 수도 간 거리(예: 수도 도시 사이의 직선 거리)를 많이 사용하고, 필요하시면 각 나라의 중심점 간 거리나 접경에서 가장 짧은 거리도 계산해 드립니다.\\n\\n참고로 제 이름은 지오(Geo)예요. 필요하시면 그렇게 불러 주세요.\\n\\n거리 계산 방식에 대해 간단히 설명:\\n- 보통은 지구를 구형으로 보고 두 지점의 대원거리(하버사인 공식을 사용)로 계산해 대략 몇 km인지 제공합니다.\\n- 결과는 보통 km 단위로 드립니다.\\n\\n두 나라 이름을 알려주시면 바로 계산해 드릴게요. 예시로는 프랑스와 독일, 미국과 캐나다처럼 입력해 주시면 됩니다.', additional_kwargs={'refusal': None}, response_metadata={'token_usage': {'completion_tokens': 1763, 'prompt_tokens': 61, 'total_tokens': 1824, 'completion_tokens_details': {'accepted_prediction_tokens': 0, 'audio_tokens': 0, 'reasoning_tokens': 1536, 'rejected_prediction_tokens': 0}, 'prompt_tokens_details': {'audio_tokens': 0, 'cached_tokens': 0}}, 'model_name': 'gpt-5-nano-2025-08-07', 'system_fingerprint': None, 'id': 'chatcmpl-CKNOfWrmTOSczGikzh83nPrBEx7Jz', 'service_tier': 'default', 'finish_reason': 'stop', 'logprobs': None}, id='run--6605b5af-f137-4bd5-a293-f6b15b6a35e0-0', usage_metadata={'input_tokens': 61, 'output_tokens': 1763, 'total_tokens': 1824, 'input_token_details': {'audio': 0, 'cache_read': 0}, 'output_token_details': {'audio': 0, 'reasoning': 1536}})"
      ]
     },
     "execution_count": 5,
     "metadata": {},
     "output_type": "execute_result"
    }
   ],
   "source": [
    "from langchain.schema import HumanMessage, AIMessage, SystemMessage\n",
    "\n",
    "messages = [\n",
    "    SystemMessage(\n",
    "        content = \"You are a geography expert. And you only reply in {language}\"\n",
    "    ),\n",
    "    AIMessage(\n",
    "        content = \"안녕, 난 {name}야!\"\n",
    "    ),\n",
    "    HumanMessage(\n",
    "        content = \"What is the distance between {country_a} and {country_b}. Alse, what if your name?\"\n",
    "    )\n",
    "]\n",
    "\n",
    "chat.predict_messages(messages=messages)"
   ]
  },
  {
   "cell_type": "markdown",
   "id": "f69d1b22",
   "metadata": {},
   "source": [
    "# Message Template"
   ]
  },
  {
   "cell_type": "code",
   "execution_count": 6,
   "id": "db3644d2",
   "metadata": {},
   "outputs": [
    {
     "data": {
      "text/plain": [
       "AIMessage(content='The distance between Korea (specifically South Korea) and Japan varies depending on the specific locations measured. The shortest distance between the two countries is across the Korea Strait, approximately:\\n\\n- **Between Busan, South Korea, and Fukuoka, Japan:** about 200 kilometers (124 miles).\\n\\nIf measuring between the capitals:\\n\\n- **Seoul, South Korea, and Tokyo, Japan:** approximately 1,150 kilometers (715 miles) in a straight line.\\n\\nThese distances are approximate and can vary slightly depending on the specific points chosen for measurement.', additional_kwargs={'refusal': None}, response_metadata={'token_usage': {'completion_tokens': 110, 'prompt_tokens': 15, 'total_tokens': 125, 'completion_tokens_details': {'accepted_prediction_tokens': 0, 'audio_tokens': 0, 'reasoning_tokens': 0, 'rejected_prediction_tokens': 0}, 'prompt_tokens_details': {'audio_tokens': 0, 'cached_tokens': 0}}, 'model_name': 'gpt-4.1-nano-2025-04-14', 'system_fingerprint': 'fp_04d3664870', 'id': 'chatcmpl-CKNOpbk1LiPp6c2oDFo98kzsYqhHT', 'service_tier': 'default', 'finish_reason': 'stop', 'logprobs': None}, id='run--7993e9fb-a43b-469d-9b15-46f2a0347b49-0', usage_metadata={'input_tokens': 15, 'output_tokens': 110, 'total_tokens': 125, 'input_token_details': {'audio': 0, 'cache_read': 0}, 'output_token_details': {'audio': 0, 'reasoning': 0}})"
      ]
     },
     "execution_count": 6,
     "metadata": {},
     "output_type": "execute_result"
    }
   ],
   "source": [
    "from langchain_openai import ChatOpenAI\n",
    "from langchain_core.prompts import PromptTemplate, ChatPromptTemplate\n",
    "\n",
    "chat = ChatOpenAI(\n",
    "    model = \"gpt-4.1-nano\",\n",
    "    temperature = 0.1\n",
    ")\n",
    "\n",
    "template = PromptTemplate.from_template(\n",
    "    \"What is the distance between {country_a} and {country_b}\"\n",
    ")\n",
    "\n",
    "prompt = template.format(country_a = \"korea\", country_b = \"Japan\")\n",
    "\n",
    "chat.invoke(prompt)"
   ]
  },
  {
   "cell_type": "code",
   "execution_count": 7,
   "id": "0cb2f5fe",
   "metadata": {},
   "outputs": [
    {
     "data": {
      "text/plain": [
       "AIMessage(content='스페인과 이탈리아 간의 거리는 약 1,000에서 1,200킬로미터 정도입니다. 이는 두 나라의 수도인 마드리드와 로마를 기준으로 한 거리입니다. 제 이름은 양민 김입니다.', additional_kwargs={'refusal': None}, response_metadata={'token_usage': {'completion_tokens': 56, 'prompt_tokens': 54, 'total_tokens': 110, 'completion_tokens_details': {'accepted_prediction_tokens': 0, 'audio_tokens': 0, 'reasoning_tokens': 0, 'rejected_prediction_tokens': 0}, 'prompt_tokens_details': {'audio_tokens': 0, 'cached_tokens': 0}}, 'model_name': 'gpt-4.1-nano-2025-04-14', 'system_fingerprint': 'fp_7c233bf9d1', 'id': 'chatcmpl-CKNOqkp3imPFBlrXcpJeckyu2ZvhR', 'service_tier': 'default', 'finish_reason': 'stop', 'logprobs': None}, id='run--2f953c1c-cef4-4ea2-8d58-30cf6a9ee578-0', usage_metadata={'input_tokens': 54, 'output_tokens': 56, 'total_tokens': 110, 'input_token_details': {'audio': 0, 'cache_read': 0}, 'output_token_details': {'audio': 0, 'reasoning': 0}})"
      ]
     },
     "execution_count": 7,
     "metadata": {},
     "output_type": "execute_result"
    }
   ],
   "source": [
    "template = ChatPromptTemplate.from_messages(\n",
    "    [\n",
    "        (\"system\" , \"You are a geography expert. And you only reply in {language}\"),\n",
    "        (\"ai\", \"Ciao, mi chiamo {name}!\"),\n",
    "        (\n",
    "            \"human\",\n",
    "            \"What is the distance between {country_a} and {country_b}. Also, what is your name?\"\n",
    "        )\n",
    "    ]\n",
    ")\n",
    "\n",
    "prompt = template.format_messages(\n",
    "    language = \"Korean\",\n",
    "    name = \"Yangmin Kim\",\n",
    "    country_a = \"spain\",\n",
    "    country_b = \"Italia\"\n",
    ")\n",
    "\n",
    "chat.invoke(prompt)"
   ]
  },
  {
   "cell_type": "markdown",
   "id": "ebaf8376",
   "metadata": {},
   "source": [
    "# Output Parser"
   ]
  },
  {
   "cell_type": "code",
   "execution_count": 8,
   "id": "c1034a80",
   "metadata": {},
   "outputs": [],
   "source": [
    "from langchain_openai import ChatOpenAI\n",
    "from langchain_core.prompts import ChatPromptTemplate\n",
    "\n",
    "chat = ChatOpenAI(\n",
    "    model = \"gpt-4o-mini\",\n",
    "    temperature = 0.1\n",
    ")"
   ]
  },
  {
   "cell_type": "code",
   "execution_count": 9,
   "id": "06b0d1aa",
   "metadata": {},
   "outputs": [],
   "source": [
    "from langchain.schema import BaseOutputParser\n",
    "\n",
    "\"\"\"\n",
    "a, b, c, d\n",
    "\"\"\"\n",
    "\n",
    "\n",
    "class CommaOutputParser(BaseOutputParser):\n",
    "    def parse(self, text):\n",
    "        items = text.strip().split(\",\")\n",
    "        return list(map(str.strip, items))"
   ]
  },
  {
   "cell_type": "code",
   "execution_count": 10,
   "id": "016b6de6",
   "metadata": {},
   "outputs": [
    {
     "data": {
      "text/plain": [
       "['a', ' b', ' c', ' d']"
      ]
     },
     "execution_count": 10,
     "metadata": {},
     "output_type": "execute_result"
    }
   ],
   "source": [
    "test = \"a, b, c, d\"\n",
    "\n",
    "test.strip().split(\",\")"
   ]
  },
  {
   "cell_type": "code",
   "execution_count": 11,
   "id": "f998430c",
   "metadata": {},
   "outputs": [],
   "source": [
    "template = ChatPromptTemplate.from_messages(\n",
    "    [\n",
    "        (\n",
    "            \"system\",\n",
    "            \"You are a list generating machine. Everything you are asked will be answerd with a comma separated list of max {max_items} in lowercase. DO NOT reply anything else\"\n",
    "        ),\n",
    "        (\"human\", \"{question}\")\n",
    "    ]\n",
    ")"
   ]
  },
  {
   "cell_type": "code",
   "execution_count": 12,
   "id": "26f6d519",
   "metadata": {},
   "outputs": [
    {
     "data": {
      "text/plain": [
       "['pikachu', 'bulbasaur', 'charmander', 'squirtle', 'jigglypuff']"
      ]
     },
     "execution_count": 12,
     "metadata": {},
     "output_type": "execute_result"
    }
   ],
   "source": [
    "chain = template | chat | CommaOutputParser()\n",
    "\n",
    "chain.invoke(\n",
    "    {\n",
    "        \"max_items\" : 5,\n",
    "        \"question\" : \"What atre the pokemons?\"\n",
    "    }\n",
    ")"
   ]
  },
  {
   "cell_type": "markdown",
   "id": "f94ba066",
   "metadata": {},
   "source": [
    "# Chaining Chain"
   ]
  },
  {
   "cell_type": "code",
   "execution_count": 13,
   "id": "a3ea1914",
   "metadata": {},
   "outputs": [],
   "source": [
    "from langchain_openai import ChatOpenAI\n",
    "from langchain_core.prompts import ChatPromptTemplate\n",
    "from langchain.callbacks import StreamingStdOutCallbackHandler\n",
    "\n",
    "chat = ChatOpenAI(\n",
    "    temperature = 0.1,\n",
    "    streaming = True,\n",
    "    callbacks = [StreamingStdOutCallbackHandler()],\n",
    "    model = \"gpt-4.1-nano\"\n",
    ")\n",
    "\n",
    "chef_prompt = ChatPromptTemplate.from_messages(\n",
    "    [\n",
    "        (\n",
    "            \"system\",\n",
    "            \"\",\n",
    "        ),\n",
    "        (\n",
    "            \"human\", \"I want to cook {cuisine} food.\"\n",
    "        )\n",
    "    ]\n",
    ")\n",
    "\n",
    "chef_chain = chef_prompt | chat"
   ]
  },
  {
   "cell_type": "code",
   "execution_count": 14,
   "id": "b0612dec",
   "metadata": {},
   "outputs": [
    {
     "name": "stdout",
     "output_type": "stream",
     "text": [
      "That sounds delicious! Italian cuisine offers a wide variety of flavorful dishes. Here are some popular Italian recipes you might enjoy:\n",
      "\n",
      "1. Spaghetti Carbonara\n",
      "2. Risotto alla Milanese\n",
      "3. Lasagna Bolognese\n",
      "4. Margherita Pizza\n",
      "5. Eggplant Parmesan (Melanzane alla Parmigiana)\n",
      "6. Fettuccine Alfredo\n",
      "7. Caprese Salad\n",
      "8. Tiramisu for dessert\n",
      "\n",
      "Would you like a specific recipe with step-by-step instructions, or do you need help choosing a dish based on ingredients you have?I'm glad you find Italian cuisine appealing! Here are some vegetarian adaptations or alternatives for the dishes listed:\n",
      "\n",
      "1. **Spaghetti Carbonara**: Traditionally made with pancetta or guanciale, but you can replace these with sautéed mushrooms or smoked tofu for a similar savory, umami flavor.\n",
      "\n",
      "2. **Risotto alla Milanese**: This dish is naturally vegetarian, made with saffron, Arborio rice, broth, and cheese. Just ensure you use a vegetable broth instead of meat-based broth.\n",
      "\n",
      "3. **Lasagna Bolognese**: Replace the meat sauce with a hearty vegetable ragù made from finely chopped mushrooms, zucchini, carrots, and tomatoes, or use lentils for added protein.\n",
      "\n",
      "4. **Margherita Pizza**: This is already vegetarian—just top with tomato sauce, fresh mozzarella, basil, and olive oil.\n",
      "\n",
      "5. **Eggplant Parmesan (Melanzane alla Parmigiana)**: This dish is vegetarian as is, made with breaded and baked eggplant slices layered with marinara sauce and cheese.\n",
      "\n",
      "6. **Fettuccine Alfredo**: Use a creamy sauce made from butter, heavy cream, and Parmesan cheese. If you want a vegan version, substitute the cream with cashew cream or coconut milk.\n",
      "\n",
      "7. **Caprese Salad**: Naturally vegetarian—just fresh mozzarella, tomatoes, basil, olive oil, and balsamic vinegar.\n",
      "\n",
      "8. **Tiramisu for dessert**: Traditionally made with mascarpone cheese and ladyfingers soaked in coffee. For a vegetarian version, ensure the ladyfingers do not contain animal-derived gelatin, or use a vegetarian-friendly biscuit.\n",
      "\n",
      "Would you like detailed recipes or step-by-step instructions for any of these dishes?"
     ]
    },
    {
     "data": {
      "text/plain": [
       "AIMessage(content=\"I'm glad you find Italian cuisine appealing! Here are some vegetarian adaptations or alternatives for the dishes listed:\\n\\n1. **Spaghetti Carbonara**: Traditionally made with pancetta or guanciale, but you can replace these with sautéed mushrooms or smoked tofu for a similar savory, umami flavor.\\n\\n2. **Risotto alla Milanese**: This dish is naturally vegetarian, made with saffron, Arborio rice, broth, and cheese. Just ensure you use a vegetable broth instead of meat-based broth.\\n\\n3. **Lasagna Bolognese**: Replace the meat sauce with a hearty vegetable ragù made from finely chopped mushrooms, zucchini, carrots, and tomatoes, or use lentils for added protein.\\n\\n4. **Margherita Pizza**: This is already vegetarian—just top with tomato sauce, fresh mozzarella, basil, and olive oil.\\n\\n5. **Eggplant Parmesan (Melanzane alla Parmigiana)**: This dish is vegetarian as is, made with breaded and baked eggplant slices layered with marinara sauce and cheese.\\n\\n6. **Fettuccine Alfredo**: Use a creamy sauce made from butter, heavy cream, and Parmesan cheese. If you want a vegan version, substitute the cream with cashew cream or coconut milk.\\n\\n7. **Caprese Salad**: Naturally vegetarian—just fresh mozzarella, tomatoes, basil, olive oil, and balsamic vinegar.\\n\\n8. **Tiramisu for dessert**: Traditionally made with mascarpone cheese and ladyfingers soaked in coffee. For a vegetarian version, ensure the ladyfingers do not contain animal-derived gelatin, or use a vegetarian-friendly biscuit.\\n\\nWould you like detailed recipes or step-by-step instructions for any of these dishes?\", additional_kwargs={}, response_metadata={'finish_reason': 'stop', 'model_name': 'gpt-4.1-nano-2025-04-14', 'system_fingerprint': 'fp_7c233bf9d1', 'service_tier': 'default'}, id='run--bba649fc-b2a3-4230-81ab-a0c88450bf52-0')"
      ]
     },
     "execution_count": 14,
     "metadata": {},
     "output_type": "execute_result"
    }
   ],
   "source": [
    "veg_chef_prompt = ChatPromptTemplate.from_messages(\n",
    "    [\n",
    "        (\n",
    "            \"system\",\n",
    "            \"You are a vegetarian chef specialized on making traditional recipies vegetarian. You find alternative ingredients and explain their preparation. You don't radically modify the recipe. If there is no alternative for a food just say you don't know how to replace it.\"\n",
    "        ),\n",
    "        (\"human\", \"{recipe}\")\n",
    "    ]\n",
    ")\n",
    "\n",
    "veg_chain = veg_chef_prompt | chat\n",
    "\n",
    "final_chain = chef_chain | veg_chain\n",
    "\n",
    "final_chain.invoke(\n",
    "    {\n",
    "        \"cuisine\" : \"Italian\"\n",
    "    }\n",
    ")"
   ]
  }
 ],
 "metadata": {
  "kernelspec": {
   "display_name": "langchain-study (3.13.7)",
   "language": "python",
   "name": "python3"
  },
  "language_info": {
   "codemirror_mode": {
    "name": "ipython",
    "version": 3
   },
   "file_extension": ".py",
   "mimetype": "text/x-python",
   "name": "python",
   "nbconvert_exporter": "python",
   "pygments_lexer": "ipython3",
   "version": "3.13.7"
  }
 },
 "nbformat": 4,
 "nbformat_minor": 5
}
