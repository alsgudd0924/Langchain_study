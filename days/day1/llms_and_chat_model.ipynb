{
 "cells": [
  {
   "cell_type": "markdown",
   "id": "38da1363",
   "metadata": {},
   "source": [
    "# Chat Model"
   ]
  },
  {
   "cell_type": "code",
   "execution_count": 2,
   "id": "43f8cd0f",
   "metadata": {},
   "outputs": [],
   "source": [
    "from dotenv import load_dotenv\n",
    "import os\n",
    "\n",
    "load_dotenv()\n",
    "\n",
    "OPENAI_API_KEY = os.getenv(\"OPENAI_API_KEY\")"
   ]
  },
  {
   "cell_type": "code",
   "execution_count": 3,
   "id": "9d58b9bc",
   "metadata": {},
   "outputs": [
    {
     "name": "stdout",
     "output_type": "stream",
     "text": [
      "content='There are eight recognized planets in our Solar System. In order from the Sun, they are:\\n\\n1. Mercury  \\n2. Venus  \\n3. Earth  \\n4. Mars  \\n5. Jupiter  \\n6. Saturn  \\n7. Uranus  \\n8. Neptune\\n\\nAdditionally, there are other celestial objects like dwarf planets (e.g., Pluto) that are not classified as full planets.' additional_kwargs={'refusal': None} response_metadata={'token_usage': {'completion_tokens': 76, 'prompt_tokens': 13, 'total_tokens': 89, 'completion_tokens_details': {'accepted_prediction_tokens': 0, 'audio_tokens': 0, 'reasoning_tokens': 0, 'rejected_prediction_tokens': 0}, 'prompt_tokens_details': {'audio_tokens': 0, 'cached_tokens': 0}}, 'model_name': 'gpt-4.1-nano-2025-04-14', 'system_fingerprint': 'fp_04d3664870', 'id': 'chatcmpl-CKg3luUWeWcASpdROnUK4OGwGvL0O', 'service_tier': 'default', 'finish_reason': 'stop', 'logprobs': None} id='run--543e0811-f150-4b33-b6ed-ce4af527db70-0' usage_metadata={'input_tokens': 13, 'output_tokens': 76, 'total_tokens': 89, 'input_token_details': {'audio': 0, 'cache_read': 0}, 'output_token_details': {'audio': 0, 'reasoning': 0}}\n"
     ]
    }
   ],
   "source": [
    "from langchain_openai import ChatOpenAI, OpenAI\n",
    "\n",
    "chat = ChatOpenAI(\n",
    "    model= \"gpt-4.1-nano\"\n",
    ")\n",
    "llm = OpenAI()\n",
    "\n",
    "print(chat.invoke(\"How many planets are there?\"))\n"
   ]
  },
  {
   "cell_type": "markdown",
   "id": "d4a10c81",
   "metadata": {},
   "source": [
    "# Message Schema"
   ]
  },
  {
   "cell_type": "code",
   "execution_count": 4,
   "id": "ad65fac6",
   "metadata": {},
   "outputs": [],
   "source": [
    "from langchain_openai import ChatOpenAI\n",
    "\n",
    "chat = ChatOpenAI(\n",
    "    model=\"gpt-5-nano\",\n",
    "    temperature=0.1\n",
    ")"
   ]
  },
  {
   "cell_type": "code",
   "execution_count": 5,
   "id": "a011f463",
   "metadata": {},
   "outputs": [
    {
     "name": "stderr",
     "output_type": "stream",
     "text": [
      "/var/folders/k6/lblj25mj78v8kkrtsml76t9w0000gn/T/ipykernel_3223/1374343564.py:15: LangChainDeprecationWarning: The method `BaseChatModel.predict_messages` was deprecated in langchain-core 0.1.7 and will be removed in 1.0. Use :meth:`~invoke` instead.\n",
      "  chat.predict_messages(messages=messages)\n"
     ]
    },
    {
     "data": {
      "text/plain": [
       "AIMessage(content=\"Sure. I can help with the distance, but I need real country names. Please provide the two countries (e.g., France and Brazil).\\n\\nAlso, tell me:\\n- Do you want the great-circle distance between capitals or between the countries' geographic centers (centroids)?\\n- Which units do you prefer: kilometers or miles?\\n\\nAs for my name, you can call me Atlas.\", additional_kwargs={'refusal': None}, response_metadata={'token_usage': {'completion_tokens': 1558, 'prompt_tokens': 61, 'total_tokens': 1619, 'completion_tokens_details': {'accepted_prediction_tokens': 0, 'audio_tokens': 0, 'reasoning_tokens': 1472, 'rejected_prediction_tokens': 0}, 'prompt_tokens_details': {'audio_tokens': 0, 'cached_tokens': 0}}, 'model_name': 'gpt-5-nano-2025-08-07', 'system_fingerprint': None, 'id': 'chatcmpl-CKg3mhY15OloZaXWof6hbLjVnxDNG', 'service_tier': 'default', 'finish_reason': 'stop', 'logprobs': None}, id='run--672a424f-9076-4516-97df-3e62df3b7b5e-0', usage_metadata={'input_tokens': 61, 'output_tokens': 1558, 'total_tokens': 1619, 'input_token_details': {'audio': 0, 'cache_read': 0}, 'output_token_details': {'audio': 0, 'reasoning': 1472}})"
      ]
     },
     "execution_count": 5,
     "metadata": {},
     "output_type": "execute_result"
    }
   ],
   "source": [
    "from langchain.schema import HumanMessage, AIMessage, SystemMessage\n",
    "\n",
    "messages = [\n",
    "    SystemMessage(\n",
    "        content = \"You are a geography expert. And you only reply in {language}\"\n",
    "    ),\n",
    "    AIMessage(\n",
    "        content = \"안녕, 난 {name}야!\"\n",
    "    ),\n",
    "    HumanMessage(\n",
    "        content = \"What is the distance between {country_a} and {country_b}. Alse, what if your name?\"\n",
    "    )\n",
    "]\n",
    "\n",
    "chat.predict_messages(messages=messages)"
   ]
  },
  {
   "cell_type": "markdown",
   "id": "f69d1b22",
   "metadata": {},
   "source": [
    "# Message Template"
   ]
  },
  {
   "cell_type": "code",
   "execution_count": 6,
   "id": "db3644d2",
   "metadata": {},
   "outputs": [
    {
     "data": {
      "text/plain": [
       "AIMessage(content=\"The distance between Korea (specifically South Korea) and Japan varies depending on the specific locations being measured. The shortest distance between the two countries is across the Korea Strait, between the southwestern tip of South Korea (near Jeju Island) and the southwestern coast of Japan (Kyushu region).\\n\\n- **Approximate shortest distance:** about 200 kilometers (124 miles) across the Korea Strait.\\n\\nFor example:\\n- Between Jeju Island (South Korea) and Fukuoka (Japan), the distance is roughly 200 kilometers (124 miles).\\n- Between Busan (South Korea) and Fukuoka, it's approximately 210 kilometers (130 miles).\\n\\nIf you specify particular cities or regions, I can provide a more precise distance.\", additional_kwargs={'refusal': None}, response_metadata={'token_usage': {'completion_tokens': 146, 'prompt_tokens': 15, 'total_tokens': 161, 'completion_tokens_details': {'accepted_prediction_tokens': 0, 'audio_tokens': 0, 'reasoning_tokens': 0, 'rejected_prediction_tokens': 0}, 'prompt_tokens_details': {'audio_tokens': 0, 'cached_tokens': 0}}, 'model_name': 'gpt-4.1-nano-2025-04-14', 'system_fingerprint': 'fp_04d3664870', 'id': 'chatcmpl-CKg3v3LsRW5LDJCuAuvMMRNnJ7DOd', 'service_tier': 'default', 'finish_reason': 'stop', 'logprobs': None}, id='run--13bca67b-8cc5-47a1-b822-671a66b360ed-0', usage_metadata={'input_tokens': 15, 'output_tokens': 146, 'total_tokens': 161, 'input_token_details': {'audio': 0, 'cache_read': 0}, 'output_token_details': {'audio': 0, 'reasoning': 0}})"
      ]
     },
     "execution_count": 6,
     "metadata": {},
     "output_type": "execute_result"
    }
   ],
   "source": [
    "from langchain_openai import ChatOpenAI\n",
    "from langchain_core.prompts import PromptTemplate, ChatPromptTemplate\n",
    "\n",
    "chat = ChatOpenAI(\n",
    "    model = \"gpt-4.1-nano\",\n",
    "    temperature = 0.1\n",
    ")\n",
    "\n",
    "template = PromptTemplate.from_template(\n",
    "    \"What is the distance between {country_a} and {country_b}\"\n",
    ")\n",
    "\n",
    "prompt = template.format(country_a = \"korea\", country_b = \"Japan\")\n",
    "\n",
    "chat.invoke(prompt)"
   ]
  },
  {
   "cell_type": "code",
   "execution_count": 7,
   "id": "0cb2f5fe",
   "metadata": {},
   "outputs": [
    {
     "data": {
      "text/plain": [
       "AIMessage(content='스페인과 이탈리아 간의 거리는 약 1,000에서 1,200킬로미터 정도입니다. 이는 두 나라의 수도인 마드리드와 로마를 기준으로 한 거리입니다. 제 이름은 양민 김입니다.', additional_kwargs={'refusal': None}, response_metadata={'token_usage': {'completion_tokens': 56, 'prompt_tokens': 54, 'total_tokens': 110, 'completion_tokens_details': {'accepted_prediction_tokens': 0, 'audio_tokens': 0, 'reasoning_tokens': 0, 'rejected_prediction_tokens': 0}, 'prompt_tokens_details': {'audio_tokens': 0, 'cached_tokens': 0}}, 'model_name': 'gpt-4.1-nano-2025-04-14', 'system_fingerprint': 'fp_04d3664870', 'id': 'chatcmpl-CKg3xy0NpxXJNkKNsuxl8TZWJFXs9', 'service_tier': 'default', 'finish_reason': 'stop', 'logprobs': None}, id='run--b1b6c192-add9-4e59-af80-51adbb2110ab-0', usage_metadata={'input_tokens': 54, 'output_tokens': 56, 'total_tokens': 110, 'input_token_details': {'audio': 0, 'cache_read': 0}, 'output_token_details': {'audio': 0, 'reasoning': 0}})"
      ]
     },
     "execution_count": 7,
     "metadata": {},
     "output_type": "execute_result"
    }
   ],
   "source": [
    "template = ChatPromptTemplate.from_messages(\n",
    "    [\n",
    "        (\"system\" , \"You are a geography expert. And you only reply in {language}\"),\n",
    "        (\"ai\", \"Ciao, mi chiamo {name}!\"),\n",
    "        (\n",
    "            \"human\",\n",
    "            \"What is the distance between {country_a} and {country_b}. Also, what is your name?\"\n",
    "        )\n",
    "    ]\n",
    ")\n",
    "\n",
    "prompt = template.format_messages(\n",
    "    language = \"Korean\",\n",
    "    name = \"Yangmin Kim\",\n",
    "    country_a = \"spain\",\n",
    "    country_b = \"Italia\"\n",
    ")\n",
    "\n",
    "chat.invoke(prompt)"
   ]
  },
  {
   "cell_type": "markdown",
   "id": "ebaf8376",
   "metadata": {},
   "source": [
    "# Output Parser"
   ]
  },
  {
   "cell_type": "code",
   "execution_count": 8,
   "id": "c1034a80",
   "metadata": {},
   "outputs": [],
   "source": [
    "from langchain_openai import ChatOpenAI\n",
    "from langchain_core.prompts import ChatPromptTemplate\n",
    "\n",
    "chat = ChatOpenAI(\n",
    "    model = \"gpt-4o-mini\",\n",
    "    temperature = 0.1\n",
    ")"
   ]
  },
  {
   "cell_type": "code",
   "execution_count": 9,
   "id": "06b0d1aa",
   "metadata": {},
   "outputs": [],
   "source": [
    "from langchain.schema import BaseOutputParser\n",
    "\n",
    "\"\"\"\n",
    "a, b, c, d\n",
    "\"\"\"\n",
    "\n",
    "\n",
    "class CommaOutputParser(BaseOutputParser):\n",
    "    def parse(self, text):\n",
    "        items = text.strip().split(\",\")\n",
    "        return list(map(str.strip, items))"
   ]
  },
  {
   "cell_type": "code",
   "execution_count": 10,
   "id": "016b6de6",
   "metadata": {},
   "outputs": [
    {
     "data": {
      "text/plain": [
       "['a', ' b', ' c', ' d']"
      ]
     },
     "execution_count": 10,
     "metadata": {},
     "output_type": "execute_result"
    }
   ],
   "source": [
    "test = \"a, b, c, d\"\n",
    "\n",
    "test.strip().split(\",\")"
   ]
  },
  {
   "cell_type": "code",
   "execution_count": 11,
   "id": "f998430c",
   "metadata": {},
   "outputs": [],
   "source": [
    "template = ChatPromptTemplate.from_messages(\n",
    "    [\n",
    "        (\n",
    "            \"system\",\n",
    "            \"You are a list generating machine. Everything you are asked will be answerd with a comma separated list of max {max_items} in lowercase. DO NOT reply anything else\"\n",
    "        ),\n",
    "        (\"human\", \"{question}\")\n",
    "    ]\n",
    ")"
   ]
  },
  {
   "cell_type": "code",
   "execution_count": 12,
   "id": "26f6d519",
   "metadata": {},
   "outputs": [
    {
     "data": {
      "text/plain": [
       "['pikachu', 'bulbasaur', 'charmander', 'squirtle', 'jigglypuff']"
      ]
     },
     "execution_count": 12,
     "metadata": {},
     "output_type": "execute_result"
    }
   ],
   "source": [
    "chain = template | chat | CommaOutputParser()\n",
    "\n",
    "chain.invoke(\n",
    "    {\n",
    "        \"max_items\" : 5,\n",
    "        \"question\" : \"What atre the pokemons?\"\n",
    "    }\n",
    ")"
   ]
  },
  {
   "cell_type": "markdown",
   "id": "f94ba066",
   "metadata": {},
   "source": [
    "# Chaining Chain"
   ]
  },
  {
   "cell_type": "code",
   "execution_count": 13,
   "id": "a3ea1914",
   "metadata": {},
   "outputs": [],
   "source": [
    "from langchain_openai import ChatOpenAI\n",
    "from langchain_core.prompts import ChatPromptTemplate\n",
    "from langchain.callbacks import StreamingStdOutCallbackHandler\n",
    "\n",
    "chat = ChatOpenAI(\n",
    "    temperature = 0.1,\n",
    "    streaming = True,\n",
    "    callbacks = [StreamingStdOutCallbackHandler()],\n",
    "    model = \"gpt-4.1-nano\"\n",
    ")\n",
    "\n",
    "chef_prompt = ChatPromptTemplate.from_messages(\n",
    "    [\n",
    "        (\n",
    "            \"system\",\n",
    "            \"\",\n",
    "        ),\n",
    "        (\n",
    "            \"human\", \"I want to cook {cuisine} food.\"\n",
    "        )\n",
    "    ]\n",
    ")\n",
    "\n",
    "chef_chain = chef_prompt | chat"
   ]
  },
  {
   "cell_type": "code",
   "execution_count": 14,
   "id": "b0612dec",
   "metadata": {},
   "outputs": [
    {
     "name": "stdout",
     "output_type": "stream",
     "text": [
      "That sounds delicious! Italian cuisine offers a wide variety of flavorful dishes. Here are some popular Italian recipes you might enjoy:\n",
      "\n",
      "1. **Spaghetti Carbonara**\n",
      "   - Ingredients: spaghetti, eggs, Pecorino Romano cheese, pancetta or guanciale, black pepper.\n",
      "   - Instructions: Cook spaghetti until al dente. In a bowl, whisk eggs and cheese. Cook pancetta until crispy. Toss hot pasta with pancetta, then mix in egg mixture off heat to create a creamy sauce. Season with black pepper.\n",
      "\n",
      "2. **Margherita Pizza**\n",
      "   - Ingredients: pizza dough, fresh mozzarella, tomato sauce, fresh basil, olive oil, salt.\n",
      "   - Instructions: Roll out dough, spread tomato sauce, add slices of mozzarella, and bake until crust is golden. Garnish with basil leaves and a drizzle of olive oil.\n",
      "\n",
      "3. **Risotto alla Milanese**\n",
      "   - Ingredients: Arborio rice, saffron, chicken broth, onion, butter, Parmesan cheese.\n",
      "   - Instructions: Sauté chopped onion in butter, add rice and toast. Gradually add warm broth with saffron, stirring constantly until creamy. Finish with Parmesan.\n",
      "\n",
      "4. **Lasagna**\n",
      "   - Ingredients: lasagna noodles, marinara sauce, béchamel sauce, ground beef or sausage, mozzarella, Parmesan.\n",
      "   - Instructions: Layer cooked noodles with meat sauce, béchamel, and cheese. Bake until bubbly and golden.\n",
      "\n",
      "Would you like a detailed recipe for any of these dishes or suggestions for other Italian favorites?I'm glad you find these dishes appealing! As a vegetarian chef, I can suggest suitable alternatives for ingredients like pancetta, guanciale, and meat-based broths. Here's how you can adapt each recipe:\n",
      "\n",
      "1. **Spaghetti Carbonara (Vegetarian Version):**  \n",
      "   - Replace pancetta or guanciale with sautéed mushrooms (such as shiitake or cremini) or smoked tofu for a smoky flavor.  \n",
      "   - Follow the same preparation, cooking the mushrooms or tofu until crispy, then tossing with pasta and mixing in the egg and cheese mixture.\n",
      "\n",
      "2. **Margherita Pizza:**  \n",
      "   - No change needed; just use fresh mozzarella, tomato sauce, basil, and olive oil as usual.\n",
      "\n",
      "3. **Risotto alla Milanese:**  \n",
      "   - Replace chicken broth with vegetable broth.  \n",
      "   - The saffron and onion remain the same, and finish with Parmesan cheese for richness.\n",
      "\n",
      "4. **Lasagna:**  \n",
      "   - Substitute the ground beef or sausage with sautéed vegetables like zucchini, spinach, mushrooms, or lentils for added protein.  \n",
      "   - Use vegetarian marinara and béchamel sauces.\n",
      "\n",
      "Would you like detailed recipes for any of these vegetarian adaptations?"
     ]
    },
    {
     "data": {
      "text/plain": [
       "AIMessage(content=\"I'm glad you find these dishes appealing! As a vegetarian chef, I can suggest suitable alternatives for ingredients like pancetta, guanciale, and meat-based broths. Here's how you can adapt each recipe:\\n\\n1. **Spaghetti Carbonara (Vegetarian Version):**  \\n   - Replace pancetta or guanciale with sautéed mushrooms (such as shiitake or cremini) or smoked tofu for a smoky flavor.  \\n   - Follow the same preparation, cooking the mushrooms or tofu until crispy, then tossing with pasta and mixing in the egg and cheese mixture.\\n\\n2. **Margherita Pizza:**  \\n   - No change needed; just use fresh mozzarella, tomato sauce, basil, and olive oil as usual.\\n\\n3. **Risotto alla Milanese:**  \\n   - Replace chicken broth with vegetable broth.  \\n   - The saffron and onion remain the same, and finish with Parmesan cheese for richness.\\n\\n4. **Lasagna:**  \\n   - Substitute the ground beef or sausage with sautéed vegetables like zucchini, spinach, mushrooms, or lentils for added protein.  \\n   - Use vegetarian marinara and béchamel sauces.\\n\\nWould you like detailed recipes for any of these vegetarian adaptations?\", additional_kwargs={}, response_metadata={'finish_reason': 'stop', 'model_name': 'gpt-4.1-nano-2025-04-14', 'system_fingerprint': 'fp_7c233bf9d1', 'service_tier': 'default'}, id='run--bdee2014-3ba7-4d7e-8d4b-7e7ee49130ba-0')"
      ]
     },
     "execution_count": 14,
     "metadata": {},
     "output_type": "execute_result"
    }
   ],
   "source": [
    "veg_chef_prompt = ChatPromptTemplate.from_messages(\n",
    "    [\n",
    "        (\n",
    "            \"system\",\n",
    "            \"You are a vegetarian chef specialized on making traditional recipies vegetarian. You find alternative ingredients and explain their preparation. You don't radically modify the recipe. If there is no alternative for a food just say you don't know how to replace it.\"\n",
    "        ),\n",
    "        (\"human\", \"{recipe}\")\n",
    "    ]\n",
    ")\n",
    "\n",
    "veg_chain = veg_chef_prompt | chat\n",
    "\n",
    "final_chain = chef_chain | veg_chain\n",
    "\n",
    "final_chain.invoke(\n",
    "    {\n",
    "        \"cuisine\" : \"Italian\"\n",
    "    }\n",
    ")"
   ]
  }
 ],
 "metadata": {
  "kernelspec": {
   "display_name": "langchain-study (3.13.7)",
   "language": "python",
   "name": "python3"
  },
  "language_info": {
   "codemirror_mode": {
    "name": "ipython",
    "version": 3
   },
   "file_extension": ".py",
   "mimetype": "text/x-python",
   "name": "python",
   "nbconvert_exporter": "python",
   "pygments_lexer": "ipython3",
   "version": "3.13.7"
  }
 },
 "nbformat": 4,
 "nbformat_minor": 5
}
